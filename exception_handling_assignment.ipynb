{
 "cells": [
  {
   "cell_type": "markdown",
   "id": "e7c71a1f-a030-4663-a4f9-3df5242a95b9",
   "metadata": {},
   "source": [
    "Q1. What is an Exception in Python? Write the difference between Exceptions and syntax errors."
   ]
  },
  {
   "cell_type": "code",
   "execution_count": 2,
   "id": "df249001-9cb0-4b03-8225-cefbef8699d1",
   "metadata": {},
   "outputs": [
    {
     "data": {
      "text/plain": [
       "'A1. An exception in Python is an event that disrupts the normal flow of a program during its execution. Exceptions can occur due to various reasons, such as invalid input, file not found, division by zero, etc. Syntax errors, on the other hand, occur when the syntax of the code is incorrect and prevents the code from being parsed correctly by the Python interpreter. The main difference is that syntax errors are detected during the parsing phase, whereas exceptions occur during the execution phase of the program.'"
      ]
     },
     "execution_count": 2,
     "metadata": {},
     "output_type": "execute_result"
    }
   ],
   "source": [
    "\"\"\"A1. An exception in Python is an event that disrupts the normal flow of a program during its execution. Exceptions can occur due to various reasons, such as invalid input, file not found, division by zero, etc. Syntax errors, on the other hand, occur when the syntax of the code is incorrect and prevents the code from being parsed correctly by the Python interpreter. The main difference is that syntax errors are detected during the parsing phase, whereas exceptions occur during the execution phase of the program.\"\"\""
   ]
  },
  {
   "cell_type": "markdown",
   "id": "83744dd3-61a4-448f-9dd9-9106da3d6868",
   "metadata": {},
   "source": [
    "Q2. What happens when an exception is not handled? Explain with an example."
   ]
  },
  {
   "cell_type": "code",
   "execution_count": 4,
   "id": "e7b52450-0236-4776-a50d-7afc40e6984d",
   "metadata": {},
   "outputs": [
    {
     "name": "stdout",
     "output_type": "stream",
     "text": [
      "This is a value error.\n"
     ]
    }
   ],
   "source": [
    "try:\n",
    "    num = 1 / 0  # This will raise a ZeroDivisionError\n",
    "except ZeroDivisionError:\n",
    "    print(\"This is a value error.\")"
   ]
  },
  {
   "cell_type": "markdown",
   "id": "2be8d882-f3be-45d1-b319-ee3b59d17960",
   "metadata": {},
   "source": [
    "Q3. Which Python statements are used to catch and handle exceptions? Explain with an example."
   ]
  },
  {
   "cell_type": "code",
   "execution_count": 5,
   "id": "554e88d3-db2e-4929-80ec-b30f1ee10e3e",
   "metadata": {},
   "outputs": [
    {
     "name": "stdin",
     "output_type": "stream",
     "text": [
      "Enter a number:  1425\n"
     ]
    },
    {
     "name": "stdout",
     "output_type": "stream",
     "text": [
      "Division result: 0.007017543859649123\n",
      "Execution completed.\n"
     ]
    }
   ],
   "source": [
    "try:\n",
    "    num = int(input(\"Enter a number: \"))\n",
    "    result = 10 / num\n",
    "except ValueError:\n",
    "    print(\"Please enter a valid number.\")\n",
    "except ZeroDivisionError:\n",
    "    print(\"Cannot divide by zero.\")\n",
    "else:\n",
    "    print(\"Division result:\", result)\n",
    "finally:\n",
    "    print(\"Execution completed.\")"
   ]
  },
  {
   "cell_type": "markdown",
   "id": "37c34aa3-97cc-49ed-85af-71455ac6a092",
   "metadata": {},
   "source": [
    "Q4. Explain with an example: try, and else, finally, and raise.\n",
    "\n"
   ]
  },
  {
   "cell_type": "code",
   "execution_count": 6,
   "id": "0f5502ab-628f-4ff7-b1fe-8c8b03f67c3e",
   "metadata": {},
   "outputs": [
    {
     "name": "stdin",
     "output_type": "stream",
     "text": [
      "Enter a number:  142563\n"
     ]
    },
    {
     "name": "stdout",
     "output_type": "stream",
     "text": [
      "You entered a positive number.\n",
      "Execution completed.\n"
     ]
    }
   ],
   "source": [
    "try:\n",
    "    num = int(input(\"Enter a number: \"))\n",
    "    if num <= 0:\n",
    "        raise ValueError(\"Number must be positive\")\n",
    "except ValueError as e:\n",
    "    print(\"Error:\", e)\n",
    "else:\n",
    "    print(\"You entered a positive number.\")\n",
    "finally:\n",
    "    print(\"Execution completed.\")"
   ]
  },
  {
   "cell_type": "markdown",
   "id": "b17f2dad-5e68-4dc6-8f35-cd5366391327",
   "metadata": {},
   "source": [
    "Q5. What are Custom Exceptions in Python? Why do we need Custom Exceptions? Explain with an example"
   ]
  },
  {
   "cell_type": "code",
   "execution_count": 7,
   "id": "2bdc1d80-042e-4f18-a91b-ce91a27c6445",
   "metadata": {},
   "outputs": [
    {
     "name": "stdin",
     "output_type": "stream",
     "text": [
      "Enter a number:  142536\n"
     ]
    }
   ],
   "source": [
    "class NegativeNumberError(Exception):\n",
    "    pass\n",
    "\n",
    "def process_number(num):\n",
    "    if num < 0:\n",
    "        raise NegativeNumberError(\"Negative numbers are not allowed\")\n",
    "    # Process the number further\n",
    "\n",
    "try:\n",
    "    num = int(input(\"Enter a number: \"))\n",
    "    process_number(num)\n",
    "except NegativeNumberError as e:\n",
    "    print(\"Error:\", e)"
   ]
  },
  {
   "cell_type": "markdown",
   "id": "086512c1-a15d-4e3d-ad01-fdb10d47035d",
   "metadata": {},
   "source": [
    "Q6. Create a custom exception class. Use this class to handle an exception."
   ]
  },
  {
   "cell_type": "code",
   "execution_count": null,
   "id": "1f1f061c-5e48-48a4-89d9-f23fe113a988",
   "metadata": {},
   "outputs": [],
   "source": []
  }
 ],
 "metadata": {
  "kernelspec": {
   "display_name": "Python 3 (ipykernel)",
   "language": "python",
   "name": "python3"
  },
  "language_info": {
   "codemirror_mode": {
    "name": "ipython",
    "version": 3
   },
   "file_extension": ".py",
   "mimetype": "text/x-python",
   "name": "python",
   "nbconvert_exporter": "python",
   "pygments_lexer": "ipython3",
   "version": "3.10.8"
  }
 },
 "nbformat": 4,
 "nbformat_minor": 5
}
